{
  "cells": [
    {
      "cell_type": "markdown",
      "metadata": {
        "id": "bsknxHrhOzCu"
      },
      "source": [
        "# Install"
      ]
    },
    {
      "cell_type": "code",
      "execution_count": null,
      "metadata": {
        "id": "OeOdk0cqOmoI"
      },
      "outputs": [],
      "source": [
        "!pip install gradio\n",
        "!apt install fonts-noto-cjk"
      ]
    },
    {
      "cell_type": "markdown",
      "metadata": {
        "id": "RhOwwDK3O2Ef"
      },
      "source": [
        "## Tesseract"
      ]
    },
    {
      "cell_type": "code",
      "execution_count": null,
      "metadata": {
        "id": "3zCnhZ6mO7A2"
      },
      "outputs": [],
      "source": [
        "!apt install tesseract-ocr libtesseract-dev tesseract-ocr-jpn\n",
        "!pip install pytesseract"
      ]
    },
    {
      "cell_type": "markdown",
      "metadata": {
        "id": "hihd4xTWPDvQ"
      },
      "source": [
        "## PaddleOCR"
      ]
    },
    {
      "cell_type": "code",
      "execution_count": null,
      "metadata": {
        "id": "xgB3DumaPGqS"
      },
      "outputs": [],
      "source": [
        "!pip install paddlepaddle\n",
        "!pip install paddleocr"
      ]
    },
    {
      "cell_type": "markdown",
      "metadata": {
        "id": "k2BfWnb7PJkD"
      },
      "source": [
        "## EasyOCR"
      ]
    },
    {
      "cell_type": "code",
      "execution_count": null,
      "metadata": {
        "id": "fRWYhfudPOie"
      },
      "outputs": [],
      "source": [
        "!pip install easyocr"
      ]
    },
    {
      "cell_type": "markdown",
      "metadata": {
        "id": "Zc6V9-H3PTTD"
      },
      "source": [
        "# Demo"
      ]
    },
    {
      "cell_type": "code",
      "execution_count": null,
      "metadata": {
        "id": "LV7mNd1-wrNF"
      },
      "outputs": [],
      "source": [
        "import torch\n",
        "gpu = True if torch.cuda.is_available() else False"
      ]
    },
    {
      "cell_type": "code",
      "execution_count": null,
      "metadata": {
        "id": "-jtnDcmwPXc3"
      },
      "outputs": [],
      "source": [
        "from PIL import ImageFont, ImageDraw, Image\n",
        "\n",
        "def putText(img, text, point, size, color):\n",
        "  font = ImageFont.truetype('/usr/share/fonts/opentype/noto/NotoSansCJK-Bold.ttc', size)\n",
        "  img_pil = Image.fromarray(img)\n",
        "  draw = ImageDraw.Draw(img_pil)\n",
        "  draw.text(point, text, fill=color, font=font)\n",
        "  return np.array(img_pil)"
      ]
    },
    {
      "cell_type": "code",
      "execution_count": null,
      "metadata": {
        "id": "mtKwx1s9Su9i"
      },
      "outputs": [],
      "source": [
        "import cv2\n",
        "import numpy as np\n",
        "\n",
        "def getImage(img, results):\n",
        "  fx = 600/img.shape[0]\n",
        "  img_box = cv2.resize(img, None, None, fx, fx)\n",
        "  img_text = np.ones((img.shape[0], img.shape[1], 3), np.uint8) * 255\n",
        "  for left, top, right, bottom, text in  results:\n",
        "    if type(text) == str:\n",
        "      cv2.rectangle(img_box, (int(left*fx), int(top*fx)), (int(right*fx), int(bottom*fx)), (255, 0, 0), thickness=2)\n",
        "      img_text = putText(img_text, text, (left, top), int((right-left)/len(text)), (255, 0, 0))\n",
        "\n",
        "  return img_box, img_text"
      ]
    },
    {
      "cell_type": "markdown",
      "metadata": {
        "id": "wEh4c_biSUbL"
      },
      "source": [
        "## Tesseract"
      ]
    },
    {
      "cell_type": "code",
      "execution_count": null,
      "metadata": {
        "id": "tkW57OOzSWe7"
      },
      "outputs": [],
      "source": [
        "import time\n",
        "from pytesseract import pytesseract\n",
        "\n",
        "def ocr_tesseract(img):\n",
        "  time_start = time.perf_counter()\n",
        "  data = pytesseract.image_to_data(img, lang=\"jpn\", config='--psm 12', output_type=pytesseract.Output.DATAFRAME)\n",
        "  time_end = time.perf_counter()\n",
        "\n",
        "  results = []\n",
        "  for left, top, width, height, text in  zip(data['left'], data['top'], data['width'], data['height'], data['text']):\n",
        "    if type(text) == str:\n",
        "      results.append((left, top, left+width, top+height, text))\n",
        "\n",
        "  img_box, img_text = getImage(img, results)\n",
        "  return time_end-time_start, img_box, img_text"
      ]
    },
    {
      "cell_type": "markdown",
      "metadata": {
        "id": "lKuAfbqdYXh5"
      },
      "source": [
        "## PaddleOCR"
      ]
    },
    {
      "cell_type": "code",
      "execution_count": null,
      "metadata": {
        "id": "RaZ1DJ14YZso"
      },
      "outputs": [],
      "source": [
        "import time\n",
        "from paddleocr import PaddleOCR\n",
        "\n",
        "ocr = PaddleOCR(use_gpu=gpu, lang = \"japan\")\n",
        "\n",
        "def ocr_paddleocr(img):\n",
        "  time_start = time.perf_counter()\n",
        "  ocr = PaddleOCR(use_gpu=gpu, lang = \"japan\", det_limit_side_len=img.shape[0], max_text_length = 30,)\n",
        "  data = ocr.ocr(img = img, det=True, rec=True, cls=False)\n",
        "  time_end = time.perf_counter()\n",
        "\n",
        "  results = []\n",
        "  for result in data[0]:\n",
        "    if result:\n",
        "      results.append((int(result[0][0][0]), int(result[0][0][1]), int(result[0][2][0]), int(result[0][2][1]), result[1][0]))\n",
        "\n",
        "  img_box, img_text = getImage(img, results)\n",
        "  return time_end-time_start, img_box, img_text"
      ]
    },
    {
      "cell_type": "markdown",
      "metadata": {
        "id": "G07_5asSZJBn"
      },
      "source": [
        "## EasyOCR"
      ]
    },
    {
      "cell_type": "code",
      "execution_count": null,
      "metadata": {
        "id": "3l7DwODBZOxO"
      },
      "outputs": [],
      "source": [
        "import time\n",
        "import easyocr\n",
        "reader = easyocr.Reader(['ja','en'], gpu=gpu)\n",
        "\n",
        "def ocr_easyocr(img):\n",
        "  time_start = time.perf_counter()\n",
        "  data = reader.readtext(img)\n",
        "  time_end = time.perf_counter()\n",
        "\n",
        "  results = []\n",
        "  for result in data:\n",
        "    if result:\n",
        "      results.append((int(result[0][0][0]), int(result[0][0][1]), int(result[0][2][0]), int(result[0][2][1]), result[1]))\n",
        "\n",
        "  img_box, img_text = getImage(img, results)\n",
        "  return time_end-time_start, img_box, img_text"
      ]
    },
    {
      "cell_type": "markdown",
      "metadata": {
        "id": "YH1X0Oo2YN7Z"
      },
      "source": [
        "## Gradio"
      ]
    },
    {
      "cell_type": "code",
      "execution_count": null,
      "metadata": {
        "id": "EwkuzJqDSRox"
      },
      "outputs": [],
      "source": [
        "def ocr(img):\n",
        "  # Tesseract\n",
        "  txt_tes_1, img_tes_1, img_tes_2 = ocr_tesseract(img)\n",
        "\n",
        "  # PaddleOCR\n",
        "  txt_pad_1, img_pad_1, img_pad_2 = ocr_paddleocr(img)\n",
        "\n",
        "  # EasyOCR\n",
        "  txt_esy_1, img_esy_1, img_esy_2 = ocr_easyocr(img)\n",
        "\n",
        "  return txt_tes_1, img_tes_1, img_tes_2, txt_pad_1, img_pad_1, img_pad_2, txt_esy_1, img_esy_1, img_esy_2"
      ]
    },
    {
      "cell_type": "code",
      "execution_count": null,
      "metadata": {
        "id": "EUq3suPLPuPI"
      },
      "outputs": [],
      "source": [
        "import gradio as gr\n",
        "\n",
        "css = \".img_out {height: 600px !important} \"\n",
        "with gr.Blocks(css=css) as demo:\n",
        "  with gr.Row():\n",
        "    input_img = gr.Image()\n",
        "  with gr.Row():\n",
        "    btn = gr.Button(\"Exec!\")\n",
        "  with gr.Row():\n",
        "    output_tes_1 = gr.Textbox(label=\"Tesseract\")\n",
        "  with gr.Row():\n",
        "    output_tes_2 = gr.Image(elem_classes='img_out', label=\"Tesseract\")\n",
        "    output_tes_3 = gr.Image(elem_classes='img_out', label=\"Tesseract\")\n",
        "  with gr.Row():\n",
        "    output_pad_1 = gr.Textbox(label=\"PaddleOCR\")\n",
        "  with gr.Row():\n",
        "    output_pad_2 = gr.Image(elem_classes='img_out', label=\"PaddleOCR\")\n",
        "    output_pad_3 = gr.Image(elem_classes='img_out', label=\"PaddleOCR\")\n",
        "  with gr.Row():\n",
        "    output_esy_1 = gr.Textbox(label=\"EasyOCR\")\n",
        "  with gr.Row():\n",
        "    output_esy_2 = gr.Image(elem_classes='img_out', label=\"EasyOCR\")\n",
        "    output_esy_3 = gr.Image(elem_classes='img_out', label=\"EasyOCR\")\n",
        "  btn.click(fn=ocr, inputs=[input_img], outputs=[\n",
        "      output_tes_1, output_tes_2, output_tes_3,\n",
        "      output_pad_1, output_pad_2, output_pad_3,\n",
        "      output_esy_1, output_esy_2, output_esy_3,\n",
        "      ])\n",
        "\n",
        "demo.launch(debug=False)"
      ]
    }
  ],
  "metadata": {
    "accelerator": "GPU",
    "colab": {
      "gpuType": "T4",
      "private_outputs": true,
      "provenance": []
    },
    "gpuClass": "standard",
    "kernelspec": {
      "display_name": "Python 3",
      "name": "python3"
    },
    "language_info": {
      "name": "python"
    }
  },
  "nbformat": 4,
  "nbformat_minor": 0
}